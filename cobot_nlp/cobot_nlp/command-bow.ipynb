{
 "cells": [
  {
   "cell_type": "code",
   "execution_count": 17,
   "metadata": {
    "colab": {
     "autoexec": {
      "startup": false,
      "wait_interval": 0
     }
    },
    "colab_type": "code",
    "id": "frTMl3sShA3P"
   },
   "outputs": [],
   "source": [
    "from __future__ import absolute_import\n",
    "from __future__ import division\n",
    "from __future__ import print_function"
   ]
  },
  {
   "cell_type": "code",
   "execution_count": 18,
   "metadata": {
    "colab": {
     "autoexec": {
      "startup": false,
      "wait_interval": 0
     },
     "height": 321,
     "output_extras": [
      {
       "item_id": 1
      }
     ]
    },
    "colab_type": "code",
    "executionInfo": {
     "elapsed": 2880,
     "status": "error",
     "timestamp": 1505781339378,
     "user": {
      "displayName": "Sara Robinson",
      "photoUrl": "//lh4.googleusercontent.com/-RR9n0dvbwgI/AAAAAAAAAAI/AAAAAAAAMYM/SOr5ZExpvXE/s50-c-k-no/photo.jpg",
      "userId": "112510032804989247452"
     },
     "user_tz": 240
    },
    "id": "783h64rGhA3T",
    "outputId": "d447b2ab-e321-4ee5-abd4-de2c0116302f"
   },
   "outputs": [
    {
     "name": "stdout",
     "output_type": "stream",
     "text": [
      "You have TensorFlow version 2.4.1\n"
     ]
    }
   ],
   "source": [
    "import itertools\n",
    "import os\n",
    "%matplotlib inline\n",
    "import matplotlib.pyplot as plt\n",
    "import numpy as np\n",
    "import pandas as pd\n",
    "import tensorflow as tf\n",
    "\n",
    "from sklearn.preprocessing import LabelBinarizer, LabelEncoder\n",
    "from sklearn.metrics import confusion_matrix\n",
    "\n",
    "from tensorflow import keras\n",
    "from keras.models import Sequential\n",
    "from keras.layers import Dense, Activation, Dropout\n",
    "from keras.preprocessing import text, sequence\n",
    "from keras import utils\n",
    "\n",
    "# This code was tested with TensorFlow v1.4\n",
    "print(\"You have TensorFlow version\", tf.__version__)"
   ]
  },
  {
   "cell_type": "code",
   "execution_count": 26,
   "metadata": {
    "colab": {
     "autoexec": {
      "startup": false,
      "wait_interval": 0
     }
    },
    "colab_type": "code",
    "id": "c7te21f7hA3V"
   },
   "outputs": [
    {
     "name": "stdout",
     "output_type": "stream",
     "text": [
      "<class 'pandas.core.frame.DataFrame'>\n"
     ]
    }
   ],
   "source": [
    "# The CSV was generated from this query: https://bigquery.cloud.google.com/savedquery/513927984416:c494494324be4a80b1fc55f613abb39c\n",
    "# The data is also publicly available at this Cloud Storage URL: https://storage.googleapis.com/tensorflow-workshop-examples/stack-overflow-data.csv\n",
    "data = pd.read_csv(\"command.csv\")"
   ]
  },
  {
   "cell_type": "code",
   "execution_count": 29,
   "metadata": {
    "colab": {
     "autoexec": {
      "startup": false,
      "wait_interval": 0
     },
     "output_extras": [
      {}
     ]
    },
    "colab_type": "code",
    "id": "chAbp3ryhA3X",
    "outputId": "3a16921d-a3be-4c43-a5e2-6012220ee13a"
   },
   "outputs": [
    {
     "data": {
      "text/html": [
       "<div>\n",
       "<style scoped>\n",
       "    .dataframe tbody tr th:only-of-type {\n",
       "        vertical-align: middle;\n",
       "    }\n",
       "\n",
       "    .dataframe tbody tr th {\n",
       "        vertical-align: top;\n",
       "    }\n",
       "\n",
       "    .dataframe thead th {\n",
       "        text-align: right;\n",
       "    }\n",
       "</style>\n",
       "<table border=\"1\" class=\"dataframe\">\n",
       "  <thead>\n",
       "    <tr style=\"text-align: right;\">\n",
       "      <th></th>\n",
       "      <th>command</th>\n",
       "      <th>tags</th>\n",
       "    </tr>\n",
       "  </thead>\n",
       "  <tbody>\n",
       "    <tr>\n",
       "      <th>33</th>\n",
       "      <td>get to a screw</td>\n",
       "      <td>reach</td>\n",
       "    </tr>\n",
       "    <tr>\n",
       "      <th>8</th>\n",
       "      <td>seize it</td>\n",
       "      <td>grasp</td>\n",
       "    </tr>\n",
       "    <tr>\n",
       "      <th>5</th>\n",
       "      <td>close now</td>\n",
       "      <td>grasp</td>\n",
       "    </tr>\n",
       "    <tr>\n",
       "      <th>13</th>\n",
       "      <td>release</td>\n",
       "      <td>release</td>\n",
       "    </tr>\n",
       "    <tr>\n",
       "      <th>44</th>\n",
       "      <td>drop it</td>\n",
       "      <td>drop</td>\n",
       "    </tr>\n",
       "  </tbody>\n",
       "</table>\n",
       "</div>"
      ],
      "text/plain": [
       "           command     tags\n",
       "33  get to a screw    reach\n",
       "8         seize it    grasp\n",
       "5        close now    grasp\n",
       "13         release  release\n",
       "44         drop it     drop"
      ]
     },
     "execution_count": 29,
     "metadata": {},
     "output_type": "execute_result"
    }
   ],
   "source": [
    "data = data.sample(frac=1)\n",
    "data.head()"
   ]
  },
  {
   "cell_type": "code",
   "execution_count": 51,
   "metadata": {},
   "outputs": [
    {
     "data": {
      "text/plain": [
       "grasp      10\n",
       "stop        9\n",
       "release     9\n",
       "lift        7\n",
       "reach       6\n",
       "drop        5\n",
       "Name: tags, dtype: int64"
      ]
     },
     "execution_count": 51,
     "metadata": {},
     "output_type": "execute_result"
    }
   ],
   "source": [
    "# Confirm that we have a balanced dataset\n",
    "# Note: data was randomly shuffled in our BigQuery query\n",
    "data['tags'].value_counts()"
   ]
  },
  {
   "cell_type": "code",
   "execution_count": 63,
   "metadata": {},
   "outputs": [
    {
     "name": "stdout",
     "output_type": "stream",
     "text": [
      "[[0 0 0 ... 0 0 0]\n",
      " [0 0 0 ... 0 0 0]\n",
      " [0 0 0 ... 0 0 0]\n",
      " ...\n",
      " [0 0 0 ... 0 0 0]\n",
      " [0 0 0 ... 0 0 0]\n",
      " [0 0 0 ... 0 0 0]]\n",
      "46\n"
     ]
    }
   ],
   "source": [
    "from sklearn.feature_extraction.text import CountVectorizer\n",
    "vectorizer = CountVectorizer()\n",
    "X = vectorizer.fit_transform(data['command'])\n",
    "print(X.toarray())\n",
    "print(len(X.toarray()[0]))\n",
    "max_words = 40"
   ]
  },
  {
   "cell_type": "code",
   "execution_count": 64,
   "metadata": {
    "colab": {
     "autoexec": {
      "startup": false,
      "wait_interval": 0
     },
     "output_extras": [
      {}
     ]
    },
    "colab_type": "code",
    "id": "h_SDal0khA3n",
    "outputId": "e6c311e5-c674-4cf2-f2dc-d6ceabfa6f83"
   },
   "outputs": [
    {
     "name": "stdout",
     "output_type": "stream",
     "text": [
      "Train size: 36\n",
      "Test size: 10\n"
     ]
    }
   ],
   "source": [
    "# Split data into train and test\n",
    "train_size = int(len(data) * .8)\n",
    "print (\"Train size: %d\" % train_size)\n",
    "print (\"Test size: %d\" % (len(data) - train_size))"
   ]
  },
  {
   "cell_type": "code",
   "execution_count": 65,
   "metadata": {
    "colab": {
     "autoexec": {
      "startup": false,
      "wait_interval": 0
     }
    },
    "colab_type": "code",
    "id": "anD38iilhA3r"
   },
   "outputs": [],
   "source": [
    "train_posts = data['command'][:train_size]\n",
    "train_tags = data['tags'][:train_size]\n",
    "\n",
    "test_posts = data['command'][train_size:]\n",
    "test_tags = data['tags'][train_size:]"
   ]
  },
  {
   "cell_type": "code",
   "execution_count": 66,
   "metadata": {
    "colab": {
     "autoexec": {
      "startup": false,
      "wait_interval": 0
     }
    },
    "colab_type": "code",
    "id": "z4GblctFhA3u"
   },
   "outputs": [],
   "source": [
    "tokenize = text.Tokenizer(char_level=False)"
   ]
  },
  {
   "cell_type": "code",
   "execution_count": 67,
   "metadata": {
    "colab": {
     "autoexec": {
      "startup": false,
      "wait_interval": 0
     }
    },
    "colab_type": "code",
    "id": "YatMLCKXhA3x"
   },
   "outputs": [],
   "source": [
    "tokenize.fit_on_texts(train_posts) # only fit on train\n",
    "x_train = tokenize.texts_to_matrix(train_posts)\n",
    "x_test = tokenize.texts_to_matrix(test_posts)"
   ]
  },
  {
   "cell_type": "code",
   "execution_count": 68,
   "metadata": {
    "colab": {
     "autoexec": {
      "startup": false,
      "wait_interval": 0
     }
    },
    "colab_type": "code",
    "id": "8quTsErLhA3z"
   },
   "outputs": [],
   "source": [
    "# Use sklearn utility to convert label strings to numbered index\n",
    "encoder = LabelEncoder()\n",
    "encoder.fit(train_tags)\n",
    "y_train = encoder.transform(train_tags)\n",
    "y_test = encoder.transform(test_tags)"
   ]
  },
  {
   "cell_type": "code",
   "execution_count": 69,
   "metadata": {
    "colab": {
     "autoexec": {
      "startup": false,
      "wait_interval": 0
     }
    },
    "colab_type": "code",
    "id": "gtP-hDRZhA31"
   },
   "outputs": [],
   "source": [
    "# Converts the labels to a one-hot representation\n",
    "num_classes = np.max(y_train) + 1\n",
    "y_train = utils.to_categorical(y_train, num_classes)\n",
    "y_test = utils.to_categorical(y_test, num_classes)"
   ]
  },
  {
   "cell_type": "code",
   "execution_count": 70,
   "metadata": {
    "colab": {
     "autoexec": {
      "startup": false,
      "wait_interval": 0
     },
     "output_extras": [
      {}
     ]
    },
    "colab_type": "code",
    "id": "XZFsdLYVhA33",
    "outputId": "882923f3-6705-46b5-be88-3d4fec2965f2"
   },
   "outputs": [
    {
     "name": "stdout",
     "output_type": "stream",
     "text": [
      "x_train shape: (36, 40)\n",
      "x_test shape: (10, 40)\n",
      "y_train shape: (36, 6)\n",
      "y_test shape: (10, 6)\n"
     ]
    }
   ],
   "source": [
    "# Inspect the dimenstions of our training and test data (this is helpful to debug)\n",
    "print('x_train shape:', x_train.shape)\n",
    "print('x_test shape:', x_test.shape)\n",
    "print('y_train shape:', y_train.shape)\n",
    "print('y_test shape:', y_test.shape)"
   ]
  },
  {
   "cell_type": "code",
   "execution_count": 74,
   "metadata": {
    "colab": {
     "autoexec": {
      "startup": false,
      "wait_interval": 0
     }
    },
    "colab_type": "code",
    "id": "cBIkzTOZhA36"
   },
   "outputs": [],
   "source": [
    "# This model trains very quickly and 2 epochs are already more than enough\n",
    "# Training for more epochs will likely lead to overfitting on this dataset\n",
    "# You can try tweaking these hyperparamaters when using this model with your own data\n",
    "batch_size = 32\n",
    "epochs = 100"
   ]
  },
  {
   "cell_type": "code",
   "execution_count": 75,
   "metadata": {
    "colab": {
     "autoexec": {
      "startup": false,
      "wait_interval": 0
     },
     "output_extras": [
      {}
     ]
    },
    "colab_type": "code",
    "id": "XdrFuwx4hA39",
    "outputId": "4b002559-2f06-4681-8f02-2e76e62d7a57"
   },
   "outputs": [],
   "source": [
    "# Build the model\n",
    "model = Sequential()\n",
    "model.add(Dense(512, input_shape=(max_words,)))\n",
    "model.add(Activation('relu'))\n",
    "model.add(Dropout(0.5))\n",
    "model.add(Dense(num_classes))\n",
    "model.add(Activation('softmax'))\n",
    "\n",
    "model.compile(loss='categorical_crossentropy',\n",
    "              optimizer='adam',\n",
    "              metrics=['accuracy'])"
   ]
  },
  {
   "cell_type": "code",
   "execution_count": 76,
   "metadata": {
    "colab": {
     "autoexec": {
      "startup": false,
      "wait_interval": 0
     },
     "output_extras": [
      {}
     ]
    },
    "colab_type": "code",
    "id": "rzi-9GaBhA4A",
    "outputId": "9a56a130-8804-4ce0-ad47-38c4f40c81fa"
   },
   "outputs": [
    {
     "name": "stdout",
     "output_type": "stream",
     "text": [
      "Epoch 1/100\n",
      "1/1 [==============================] - 0s 318ms/step - loss: 1.7940 - accuracy: 0.1562 - val_loss: 1.8748 - val_accuracy: 0.0000e+00\n",
      "Epoch 2/100\n",
      "1/1 [==============================] - 0s 26ms/step - loss: 1.7914 - accuracy: 0.1562 - val_loss: 1.8642 - val_accuracy: 0.0000e+00\n",
      "Epoch 3/100\n",
      "1/1 [==============================] - 0s 27ms/step - loss: 1.7417 - accuracy: 0.2812 - val_loss: 1.8527 - val_accuracy: 0.0000e+00\n",
      "Epoch 4/100\n",
      "1/1 [==============================] - 0s 146ms/step - loss: 1.7016 - accuracy: 0.4375 - val_loss: 1.8415 - val_accuracy: 0.0000e+00\n",
      "Epoch 5/100\n",
      "1/1 [==============================] - 0s 26ms/step - loss: 1.7070 - accuracy: 0.5625 - val_loss: 1.8303 - val_accuracy: 0.2500\n",
      "Epoch 6/100\n",
      "1/1 [==============================] - 0s 30ms/step - loss: 1.6964 - accuracy: 0.3125 - val_loss: 1.8189 - val_accuracy: 0.2500\n",
      "Epoch 7/100\n",
      "1/1 [==============================] - 0s 33ms/step - loss: 1.6188 - accuracy: 0.5938 - val_loss: 1.8074 - val_accuracy: 0.2500\n",
      "Epoch 8/100\n",
      "1/1 [==============================] - 0s 30ms/step - loss: 1.6030 - accuracy: 0.6875 - val_loss: 1.7960 - val_accuracy: 0.2500\n",
      "Epoch 9/100\n",
      "1/1 [==============================] - 0s 31ms/step - loss: 1.5689 - accuracy: 0.7500 - val_loss: 1.7844 - val_accuracy: 0.2500\n",
      "Epoch 10/100\n",
      "1/1 [==============================] - 0s 35ms/step - loss: 1.5626 - accuracy: 0.8750 - val_loss: 1.7728 - val_accuracy: 0.2500\n",
      "Epoch 11/100\n",
      "1/1 [==============================] - 0s 35ms/step - loss: 1.5204 - accuracy: 0.9062 - val_loss: 1.7612 - val_accuracy: 0.2500\n",
      "Epoch 12/100\n",
      "1/1 [==============================] - 0s 26ms/step - loss: 1.5083 - accuracy: 0.8438 - val_loss: 1.7498 - val_accuracy: 0.2500\n",
      "Epoch 13/100\n",
      "1/1 [==============================] - 0s 35ms/step - loss: 1.4861 - accuracy: 0.9062 - val_loss: 1.7384 - val_accuracy: 0.2500\n",
      "Epoch 14/100\n",
      "1/1 [==============================] - 0s 31ms/step - loss: 1.4425 - accuracy: 0.9062 - val_loss: 1.7270 - val_accuracy: 0.2500\n",
      "Epoch 15/100\n",
      "1/1 [==============================] - 0s 33ms/step - loss: 1.4007 - accuracy: 0.9688 - val_loss: 1.7157 - val_accuracy: 0.2500\n",
      "Epoch 16/100\n",
      "1/1 [==============================] - 0s 30ms/step - loss: 1.4146 - accuracy: 0.9688 - val_loss: 1.7043 - val_accuracy: 0.2500\n",
      "Epoch 17/100\n",
      "1/1 [==============================] - 0s 28ms/step - loss: 1.3890 - accuracy: 0.9688 - val_loss: 1.6930 - val_accuracy: 0.5000\n",
      "Epoch 18/100\n",
      "1/1 [==============================] - 0s 30ms/step - loss: 1.3558 - accuracy: 0.9688 - val_loss: 1.6815 - val_accuracy: 0.5000\n",
      "Epoch 19/100\n",
      "1/1 [==============================] - 0s 35ms/step - loss: 1.3005 - accuracy: 0.9688 - val_loss: 1.6700 - val_accuracy: 0.5000\n",
      "Epoch 20/100\n",
      "1/1 [==============================] - 0s 33ms/step - loss: 1.2995 - accuracy: 0.9688 - val_loss: 1.6585 - val_accuracy: 0.5000\n",
      "Epoch 21/100\n",
      "1/1 [==============================] - 0s 33ms/step - loss: 1.2898 - accuracy: 1.0000 - val_loss: 1.6468 - val_accuracy: 0.5000\n",
      "Epoch 22/100\n",
      "1/1 [==============================] - 0s 35ms/step - loss: 1.2388 - accuracy: 1.0000 - val_loss: 1.6348 - val_accuracy: 0.5000\n",
      "Epoch 23/100\n",
      "1/1 [==============================] - 0s 37ms/step - loss: 1.2552 - accuracy: 0.9688 - val_loss: 1.6226 - val_accuracy: 0.5000\n",
      "Epoch 24/100\n",
      "1/1 [==============================] - 0s 38ms/step - loss: 1.1835 - accuracy: 1.0000 - val_loss: 1.6105 - val_accuracy: 0.7500\n",
      "Epoch 25/100\n",
      "1/1 [==============================] - 0s 31ms/step - loss: 1.1763 - accuracy: 1.0000 - val_loss: 1.5981 - val_accuracy: 0.7500\n",
      "Epoch 26/100\n",
      "1/1 [==============================] - 0s 28ms/step - loss: 1.1664 - accuracy: 1.0000 - val_loss: 1.5857 - val_accuracy: 0.7500\n",
      "Epoch 27/100\n",
      "1/1 [==============================] - 0s 31ms/step - loss: 1.1156 - accuracy: 0.9688 - val_loss: 1.5733 - val_accuracy: 0.7500\n",
      "Epoch 28/100\n",
      "1/1 [==============================] - 0s 32ms/step - loss: 1.0947 - accuracy: 1.0000 - val_loss: 1.5607 - val_accuracy: 0.7500\n",
      "Epoch 29/100\n",
      "1/1 [==============================] - 0s 35ms/step - loss: 1.0607 - accuracy: 1.0000 - val_loss: 1.5480 - val_accuracy: 0.7500\n",
      "Epoch 30/100\n",
      "1/1 [==============================] - 0s 27ms/step - loss: 1.0452 - accuracy: 1.0000 - val_loss: 1.5352 - val_accuracy: 0.7500\n",
      "Epoch 31/100\n",
      "1/1 [==============================] - 0s 28ms/step - loss: 1.0218 - accuracy: 1.0000 - val_loss: 1.5223 - val_accuracy: 0.7500\n",
      "Epoch 32/100\n",
      "1/1 [==============================] - 0s 31ms/step - loss: 1.0187 - accuracy: 1.0000 - val_loss: 1.5091 - val_accuracy: 0.7500\n",
      "Epoch 33/100\n",
      "1/1 [==============================] - 0s 34ms/step - loss: 0.9937 - accuracy: 1.0000 - val_loss: 1.4959 - val_accuracy: 0.7500\n",
      "Epoch 34/100\n",
      "1/1 [==============================] - 0s 35ms/step - loss: 0.9553 - accuracy: 1.0000 - val_loss: 1.4826 - val_accuracy: 0.7500\n",
      "Epoch 35/100\n",
      "1/1 [==============================] - 0s 31ms/step - loss: 0.9166 - accuracy: 1.0000 - val_loss: 1.4691 - val_accuracy: 0.7500\n",
      "Epoch 36/100\n",
      "1/1 [==============================] - 0s 36ms/step - loss: 0.9128 - accuracy: 1.0000 - val_loss: 1.4552 - val_accuracy: 0.7500\n",
      "Epoch 37/100\n",
      "1/1 [==============================] - 0s 32ms/step - loss: 0.8773 - accuracy: 1.0000 - val_loss: 1.4411 - val_accuracy: 0.7500\n",
      "Epoch 38/100\n",
      "1/1 [==============================] - 0s 34ms/step - loss: 0.8548 - accuracy: 1.0000 - val_loss: 1.4268 - val_accuracy: 0.7500\n",
      "Epoch 39/100\n",
      "1/1 [==============================] - 0s 32ms/step - loss: 0.8528 - accuracy: 1.0000 - val_loss: 1.4124 - val_accuracy: 0.7500\n",
      "Epoch 40/100\n",
      "1/1 [==============================] - 0s 30ms/step - loss: 0.8260 - accuracy: 1.0000 - val_loss: 1.3977 - val_accuracy: 0.7500\n",
      "Epoch 41/100\n",
      "1/1 [==============================] - 0s 29ms/step - loss: 0.8102 - accuracy: 1.0000 - val_loss: 1.3828 - val_accuracy: 0.7500\n",
      "Epoch 42/100\n",
      "1/1 [==============================] - 0s 29ms/step - loss: 0.7595 - accuracy: 1.0000 - val_loss: 1.3676 - val_accuracy: 0.7500\n",
      "Epoch 43/100\n",
      "1/1 [==============================] - 0s 29ms/step - loss: 0.7182 - accuracy: 1.0000 - val_loss: 1.3522 - val_accuracy: 0.7500\n",
      "Epoch 44/100\n",
      "1/1 [==============================] - 0s 30ms/step - loss: 0.7522 - accuracy: 1.0000 - val_loss: 1.3364 - val_accuracy: 0.7500\n",
      "Epoch 45/100\n",
      "1/1 [==============================] - 0s 32ms/step - loss: 0.7104 - accuracy: 1.0000 - val_loss: 1.3207 - val_accuracy: 0.7500\n",
      "Epoch 46/100\n",
      "1/1 [==============================] - 0s 34ms/step - loss: 0.6604 - accuracy: 1.0000 - val_loss: 1.3049 - val_accuracy: 0.7500\n",
      "Epoch 47/100\n",
      "1/1 [==============================] - 0s 112ms/step - loss: 0.6523 - accuracy: 1.0000 - val_loss: 1.2888 - val_accuracy: 0.7500\n",
      "Epoch 48/100\n",
      "1/1 [==============================] - 0s 27ms/step - loss: 0.6384 - accuracy: 1.0000 - val_loss: 1.2725 - val_accuracy: 0.7500\n",
      "Epoch 49/100\n",
      "1/1 [==============================] - 0s 31ms/step - loss: 0.6189 - accuracy: 1.0000 - val_loss: 1.2563 - val_accuracy: 0.7500\n",
      "Epoch 50/100\n",
      "1/1 [==============================] - 0s 28ms/step - loss: 0.6137 - accuracy: 1.0000 - val_loss: 1.2399 - val_accuracy: 0.7500\n",
      "Epoch 51/100\n",
      "1/1 [==============================] - 0s 28ms/step - loss: 0.5777 - accuracy: 1.0000 - val_loss: 1.2235 - val_accuracy: 0.7500\n",
      "Epoch 52/100\n",
      "1/1 [==============================] - 0s 26ms/step - loss: 0.5809 - accuracy: 1.0000 - val_loss: 1.2071 - val_accuracy: 0.7500\n",
      "Epoch 53/100\n",
      "1/1 [==============================] - 0s 29ms/step - loss: 0.5664 - accuracy: 1.0000 - val_loss: 1.1905 - val_accuracy: 0.7500\n",
      "Epoch 54/100\n",
      "1/1 [==============================] - 0s 29ms/step - loss: 0.5251 - accuracy: 1.0000 - val_loss: 1.1739 - val_accuracy: 0.7500\n",
      "Epoch 55/100\n",
      "1/1 [==============================] - 0s 30ms/step - loss: 0.5279 - accuracy: 1.0000 - val_loss: 1.1570 - val_accuracy: 0.7500\n",
      "Epoch 56/100\n",
      "1/1 [==============================] - 0s 29ms/step - loss: 0.5207 - accuracy: 1.0000 - val_loss: 1.1401 - val_accuracy: 0.7500\n",
      "Epoch 57/100\n",
      "1/1 [==============================] - 0s 29ms/step - loss: 0.5036 - accuracy: 1.0000 - val_loss: 1.1234 - val_accuracy: 0.7500\n",
      "Epoch 58/100\n",
      "1/1 [==============================] - 0s 28ms/step - loss: 0.4509 - accuracy: 1.0000 - val_loss: 1.1065 - val_accuracy: 0.7500\n",
      "Epoch 59/100\n"
     ]
    },
    {
     "name": "stdout",
     "output_type": "stream",
     "text": [
      "1/1 [==============================] - 0s 27ms/step - loss: 0.4395 - accuracy: 1.0000 - val_loss: 1.0898 - val_accuracy: 1.0000\n",
      "Epoch 60/100\n",
      "1/1 [==============================] - 0s 30ms/step - loss: 0.4235 - accuracy: 1.0000 - val_loss: 1.0730 - val_accuracy: 1.0000\n",
      "Epoch 61/100\n",
      "1/1 [==============================] - 0s 30ms/step - loss: 0.4065 - accuracy: 1.0000 - val_loss: 1.0566 - val_accuracy: 1.0000\n",
      "Epoch 62/100\n",
      "1/1 [==============================] - 0s 26ms/step - loss: 0.4040 - accuracy: 1.0000 - val_loss: 1.0404 - val_accuracy: 1.0000\n",
      "Epoch 63/100\n",
      "1/1 [==============================] - 0s 26ms/step - loss: 0.3666 - accuracy: 1.0000 - val_loss: 1.0244 - val_accuracy: 1.0000\n",
      "Epoch 64/100\n",
      "1/1 [==============================] - 0s 25ms/step - loss: 0.3825 - accuracy: 1.0000 - val_loss: 1.0085 - val_accuracy: 1.0000\n",
      "Epoch 65/100\n",
      "1/1 [==============================] - 0s 26ms/step - loss: 0.3507 - accuracy: 1.0000 - val_loss: 0.9927 - val_accuracy: 1.0000\n",
      "Epoch 66/100\n",
      "1/1 [==============================] - 0s 26ms/step - loss: 0.3515 - accuracy: 1.0000 - val_loss: 0.9773 - val_accuracy: 1.0000\n",
      "Epoch 67/100\n",
      "1/1 [==============================] - 0s 28ms/step - loss: 0.3565 - accuracy: 1.0000 - val_loss: 0.9619 - val_accuracy: 1.0000\n",
      "Epoch 68/100\n",
      "1/1 [==============================] - 0s 30ms/step - loss: 0.3031 - accuracy: 1.0000 - val_loss: 0.9470 - val_accuracy: 1.0000\n",
      "Epoch 69/100\n",
      "1/1 [==============================] - 0s 26ms/step - loss: 0.3275 - accuracy: 1.0000 - val_loss: 0.9322 - val_accuracy: 1.0000\n",
      "Epoch 70/100\n",
      "1/1 [==============================] - 0s 29ms/step - loss: 0.2967 - accuracy: 1.0000 - val_loss: 0.9175 - val_accuracy: 1.0000\n",
      "Epoch 71/100\n",
      "1/1 [==============================] - 0s 31ms/step - loss: 0.2908 - accuracy: 1.0000 - val_loss: 0.9029 - val_accuracy: 1.0000\n",
      "Epoch 72/100\n",
      "1/1 [==============================] - 0s 34ms/step - loss: 0.2848 - accuracy: 1.0000 - val_loss: 0.8884 - val_accuracy: 1.0000\n",
      "Epoch 73/100\n",
      "1/1 [==============================] - 0s 31ms/step - loss: 0.2544 - accuracy: 1.0000 - val_loss: 0.8742 - val_accuracy: 1.0000\n",
      "Epoch 74/100\n",
      "1/1 [==============================] - 0s 30ms/step - loss: 0.2365 - accuracy: 1.0000 - val_loss: 0.8603 - val_accuracy: 1.0000\n",
      "Epoch 75/100\n",
      "1/1 [==============================] - 0s 32ms/step - loss: 0.2473 - accuracy: 1.0000 - val_loss: 0.8469 - val_accuracy: 1.0000\n",
      "Epoch 76/100\n",
      "1/1 [==============================] - 0s 31ms/step - loss: 0.2080 - accuracy: 1.0000 - val_loss: 0.8340 - val_accuracy: 1.0000\n",
      "Epoch 77/100\n",
      "1/1 [==============================] - 0s 33ms/step - loss: 0.2230 - accuracy: 1.0000 - val_loss: 0.8214 - val_accuracy: 1.0000\n",
      "Epoch 78/100\n",
      "1/1 [==============================] - 0s 35ms/step - loss: 0.2279 - accuracy: 1.0000 - val_loss: 0.8093 - val_accuracy: 1.0000\n",
      "Epoch 79/100\n",
      "1/1 [==============================] - 0s 32ms/step - loss: 0.2210 - accuracy: 1.0000 - val_loss: 0.7975 - val_accuracy: 1.0000\n",
      "Epoch 80/100\n",
      "1/1 [==============================] - 0s 34ms/step - loss: 0.2144 - accuracy: 1.0000 - val_loss: 0.7860 - val_accuracy: 1.0000\n",
      "Epoch 81/100\n",
      "1/1 [==============================] - 0s 30ms/step - loss: 0.2006 - accuracy: 1.0000 - val_loss: 0.7749 - val_accuracy: 1.0000\n",
      "Epoch 82/100\n",
      "1/1 [==============================] - 0s 33ms/step - loss: 0.1939 - accuracy: 1.0000 - val_loss: 0.7641 - val_accuracy: 1.0000\n",
      "Epoch 83/100\n",
      "1/1 [==============================] - 0s 33ms/step - loss: 0.1857 - accuracy: 1.0000 - val_loss: 0.7537 - val_accuracy: 1.0000\n",
      "Epoch 84/100\n",
      "1/1 [==============================] - 0s 27ms/step - loss: 0.1814 - accuracy: 1.0000 - val_loss: 0.7436 - val_accuracy: 1.0000\n",
      "Epoch 85/100\n",
      "1/1 [==============================] - 0s 32ms/step - loss: 0.1770 - accuracy: 1.0000 - val_loss: 0.7339 - val_accuracy: 1.0000\n",
      "Epoch 86/100\n",
      "1/1 [==============================] - 0s 31ms/step - loss: 0.1563 - accuracy: 1.0000 - val_loss: 0.7244 - val_accuracy: 1.0000\n",
      "Epoch 87/100\n",
      "1/1 [==============================] - 0s 30ms/step - loss: 0.1668 - accuracy: 1.0000 - val_loss: 0.7151 - val_accuracy: 1.0000\n",
      "Epoch 88/100\n",
      "1/1 [==============================] - 0s 29ms/step - loss: 0.1660 - accuracy: 1.0000 - val_loss: 0.7062 - val_accuracy: 1.0000\n",
      "Epoch 89/100\n",
      "1/1 [==============================] - 0s 26ms/step - loss: 0.1474 - accuracy: 1.0000 - val_loss: 0.6977 - val_accuracy: 1.0000\n",
      "Epoch 90/100\n",
      "1/1 [==============================] - 0s 27ms/step - loss: 0.1459 - accuracy: 1.0000 - val_loss: 0.6894 - val_accuracy: 1.0000\n",
      "Epoch 91/100\n",
      "1/1 [==============================] - 0s 29ms/step - loss: 0.1448 - accuracy: 1.0000 - val_loss: 0.6815 - val_accuracy: 1.0000\n",
      "Epoch 92/100\n",
      "1/1 [==============================] - 0s 29ms/step - loss: 0.1266 - accuracy: 1.0000 - val_loss: 0.6739 - val_accuracy: 1.0000\n",
      "Epoch 93/100\n",
      "1/1 [==============================] - 0s 30ms/step - loss: 0.1416 - accuracy: 1.0000 - val_loss: 0.6668 - val_accuracy: 1.0000\n",
      "Epoch 94/100\n",
      "1/1 [==============================] - 0s 30ms/step - loss: 0.1253 - accuracy: 1.0000 - val_loss: 0.6600 - val_accuracy: 1.0000\n",
      "Epoch 95/100\n",
      "1/1 [==============================] - 0s 29ms/step - loss: 0.1273 - accuracy: 1.0000 - val_loss: 0.6536 - val_accuracy: 1.0000\n",
      "Epoch 96/100\n",
      "1/1 [==============================] - 0s 29ms/step - loss: 0.1250 - accuracy: 1.0000 - val_loss: 0.6475 - val_accuracy: 1.0000\n",
      "Epoch 97/100\n",
      "1/1 [==============================] - 0s 29ms/step - loss: 0.1100 - accuracy: 1.0000 - val_loss: 0.6414 - val_accuracy: 1.0000\n",
      "Epoch 98/100\n",
      "1/1 [==============================] - 0s 25ms/step - loss: 0.1227 - accuracy: 1.0000 - val_loss: 0.6354 - val_accuracy: 1.0000\n",
      "Epoch 99/100\n",
      "1/1 [==============================] - 0s 27ms/step - loss: 0.1098 - accuracy: 1.0000 - val_loss: 0.6297 - val_accuracy: 1.0000\n",
      "Epoch 100/100\n",
      "1/1 [==============================] - 0s 29ms/step - loss: 0.0981 - accuracy: 1.0000 - val_loss: 0.6241 - val_accuracy: 1.0000\n"
     ]
    }
   ],
   "source": [
    "# model.fit trains the model\n",
    "# The validation_split param tells Keras what % of our training data should be used in the validation set\n",
    "# You can see the validation loss decreasing slowly when you run this\n",
    "# Because val_loss is no longer decreasing we stop training to prevent overfitting\n",
    "history = model.fit(x_train, y_train,\n",
    "                    batch_size=batch_size,\n",
    "                    epochs=epochs,\n",
    "                    verbose=1,\n",
    "                    validation_split=0.1)"
   ]
  },
  {
   "cell_type": "code",
   "execution_count": 77,
   "metadata": {
    "colab": {
     "autoexec": {
      "startup": false,
      "wait_interval": 0
     },
     "output_extras": [
      {}
     ]
    },
    "colab_type": "code",
    "id": "zjwBD8qFhA4D",
    "outputId": "0dda5da5-44c4-4fbc-f2ad-01d642ca1914"
   },
   "outputs": [
    {
     "name": "stdout",
     "output_type": "stream",
     "text": [
      "1/1 [==============================] - 0s 13ms/step - loss: 0.5572 - accuracy: 0.9000\n",
      "Test score: 0.5571969151496887\n",
      "Test accuracy: 0.8999999761581421\n"
     ]
    }
   ],
   "source": [
    "# Evaluate the accuracy of our trained model\n",
    "score = model.evaluate(x_test, y_test,\n",
    "                       batch_size=batch_size, verbose=1)\n",
    "print('Test score:', score[0])\n",
    "print('Test accuracy:', score[1])"
   ]
  },
  {
   "cell_type": "code",
   "execution_count": 78,
   "metadata": {
    "colab": {
     "autoexec": {
      "startup": false,
      "wait_interval": 0
     },
     "output_extras": [
      {}
     ]
    },
    "colab_type": "code",
    "id": "f000lYoxhA4F",
    "outputId": "21cd198f-1979-4b40-a2fd-891a1c0248db"
   },
   "outputs": [
    {
     "name": "stdout",
     "output_type": "stream",
     "text": [
      "lift up ...\n",
      "Actual label:lift\n",
      "Predicted label: lift\n",
      "\n",
      "open your fingers ...\n",
      "Actual label:release\n",
      "Predicted label: grasp\n",
      "\n",
      "put it on the tableput the nut down ...\n",
      "Actual label:drop\n",
      "Predicted label: drop\n",
      "\n",
      "grip that ...\n",
      "Actual label:grasp\n",
      "Predicted label: grasp\n",
      "\n",
      "close your gripper ...\n",
      "Actual label:grasp\n",
      "Predicted label: grasp\n",
      "\n",
      "halt ...\n",
      "Actual label:stop\n",
      "Predicted label: stop\n",
      "\n",
      "pause ...\n",
      "Actual label:stop\n",
      "Predicted label: stop\n",
      "\n",
      "close ...\n",
      "Actual label:grasp\n",
      "Predicted label: grasp\n",
      "\n",
      "go to the storage ...\n",
      "Actual label:reach\n",
      "Predicted label: reach\n",
      "\n",
      "release the peg ...\n",
      "Actual label:release\n",
      "Predicted label: release\n",
      "\n"
     ]
    }
   ],
   "source": [
    "# Here's how to generate a prediction on individual examples\n",
    "text_labels = encoder.classes_ \n",
    "\n",
    "for i in range(10):\n",
    "    prediction = model.predict(np.array([x_test[i]]))\n",
    "    predicted_label = text_labels[np.argmax(prediction)]\n",
    "    print(test_posts.iloc[i][:50], \"...\")\n",
    "    print('Actual label:' + test_tags.iloc[i])\n",
    "    print(\"Predicted label: \" + predicted_label + \"\\n\")  "
   ]
  },
  {
   "cell_type": "code",
   "execution_count": 79,
   "metadata": {
    "colab": {
     "autoexec": {
      "startup": false,
      "wait_interval": 0
     }
    },
    "colab_type": "code",
    "id": "HKUgUHLAhA4I"
   },
   "outputs": [],
   "source": [
    "y_softmax = model.predict(x_test)\n",
    "\n",
    "y_test_1d = []\n",
    "y_pred_1d = []\n",
    "\n",
    "for i in range(len(y_test)):\n",
    "    probs = y_test[i]\n",
    "    index_arr = np.nonzero(probs)\n",
    "    one_hot_index = index_arr[0].item(0)\n",
    "    y_test_1d.append(one_hot_index)\n",
    "\n",
    "for i in range(0, len(y_softmax)):\n",
    "    probs = y_softmax[i]\n",
    "    predicted_index = np.argmax(probs)\n",
    "    y_pred_1d.append(predicted_index)"
   ]
  },
  {
   "cell_type": "code",
   "execution_count": 80,
   "metadata": {
    "colab": {
     "autoexec": {
      "startup": false,
      "wait_interval": 0
     }
    },
    "colab_type": "code",
    "id": "rqqIG5KnhA4K"
   },
   "outputs": [],
   "source": [
    "# This utility function is from the sklearn docs: http://scikit-learn.org/stable/auto_examples/model_selection/plot_confusion_matrix.html\n",
    "def plot_confusion_matrix(cm, classes,\n",
    "                          title='Confusion matrix',\n",
    "                          cmap=plt.cm.Blues):\n",
    "    \"\"\"\n",
    "    This function prints and plots the confusion matrix.\n",
    "    Normalization can be applied by setting `normalize=True`.\n",
    "    \"\"\"\n",
    "\n",
    "    cm = cm.astype('float') / cm.sum(axis=1)[:, np.newaxis]\n",
    "\n",
    "    plt.imshow(cm, interpolation='nearest', cmap=cmap)\n",
    "    plt.title(title, fontsize=30)\n",
    "    plt.colorbar()\n",
    "    tick_marks = np.arange(len(classes))\n",
    "    plt.xticks(tick_marks, classes, rotation=45, fontsize=22)\n",
    "    plt.yticks(tick_marks, classes, fontsize=22)\n",
    "\n",
    "    fmt = '.2f'\n",
    "    thresh = cm.max() / 2.\n",
    "    for i, j in itertools.product(range(cm.shape[0]), range(cm.shape[1])):\n",
    "        plt.text(j, i, format(cm[i, j], fmt),\n",
    "                 horizontalalignment=\"center\",\n",
    "                 color=\"white\" if cm[i, j] > thresh else \"black\")\n",
    "\n",
    "    plt.ylabel('True label', fontsize=25)\n",
    "    plt.xlabel('Predicted label', fontsize=25)"
   ]
  },
  {
   "cell_type": "code",
   "execution_count": 81,
   "metadata": {
    "colab": {
     "autoexec": {
      "startup": false,
      "wait_interval": 0
     },
     "output_extras": [
      {},
      {},
      {}
     ]
    },
    "colab_type": "code",
    "id": "8nWz6EFqhA4L",
    "outputId": "9d7fa550-66f8-4b4d-bc11-2cee0cd96ace"
   },
   "outputs": [
    {
     "data": {
      "image/png": "[encoded data removed]",
      "text/plain": [
       "<matplotlib.figure.Figure at 0x7fe4f03c9748>"
      ]
     },
     "metadata": {
      "needs_background": "light"
     },
     "output_type": "display_data"
    }
   ],
   "source": [
    "cnf_matrix = confusion_matrix(y_test_1d, y_pred_1d)\n",
    "plt.figure(figsize=(24,20))\n",
    "plot_confusion_matrix(cnf_matrix, classes=text_labels, title=\"Confusion matrix\")\n",
    "plt.show()"
   ]
  },
  {
   "cell_type": "code",
   "execution_count": null,
   "metadata": {},
   "outputs": [],
   "source": []
  },
  {
   "cell_type": "code",
   "execution_count": null,
   "metadata": {},
   "outputs": [],
   "source": []
  }
 ],
 "metadata": {
  "colab": {
   "default_view": {},
   "name": "josh3.ipynb",
   "provenance": [],
   "version": "0.3.2",
   "views": {}
  },
  "kernelspec": {
   "display_name": "Python 3",
   "language": "python",
   "name": "python3"
  },
  "language_info": {
   "codemirror_mode": {
    "name": "ipython",
    "version": 3
   },
   "file_extension": ".py",
   "mimetype": "text/x-python",
   "name": "python",
   "nbconvert_exporter": "python",
   "pygments_lexer": "ipython3",
   "version": "3.6.9"
  }
 },
 "nbformat": 4,
 "nbformat_minor": 1
}
